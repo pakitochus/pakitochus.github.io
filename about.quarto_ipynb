{
  "cells": [
    {
      "cell_type": "markdown",
      "metadata": {},
      "source": [
        "---\n",
        "title: \"About\"\n",
        "jupyter: python3\n",
        "---\n",
        "\n",
        "\n",
        "About this site\n"
      ],
      "id": "c96115a1"
    },
    {
      "cell_type": "code",
      "metadata": {},
      "source": [
        "1 + 1"
      ],
      "id": "eb5146b1",
      "execution_count": null,
      "outputs": []
    }
  ],
  "metadata": {
    "kernelspec": {
      "name": "python3",
      "language": "python",
      "display_name": "Python 3 (ipykernel)",
      "path": "/usr/share/jupyter/kernels/python3"
    }
  },
  "nbformat": 4,
  "nbformat_minor": 5
}